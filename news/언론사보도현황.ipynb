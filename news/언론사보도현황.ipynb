{
 "cells": [
  {
   "cell_type": "code",
   "execution_count": null,
   "id": "83e816fc-bab8-48d3-9539-9e0a07573019",
   "metadata": {},
   "outputs": [],
   "source": [
    "import pandas as pd\n",
    "import numpy as np\n",
    "import matplotlib.pyplot as plt\n",
    "import matplotlib.font_manager as font_manager\n",
    "import os\n",
    "\n",
    "font_path = 'AppleGothic.ttf'\n",
    "plt.rcParams['font.family'] = 'AppleGothic'\n",
    "plt.rcParams['axes.unicode_minus'] = False"
   ]
  },
  {
   "cell_type": "code",
   "execution_count": null,
   "id": "c28d0fbb-7466-4748-aa16-7be90ab13df8",
   "metadata": {},
   "outputs": [],
   "source": [
    "news_df = pd.read_csv('news.csv')\n",
    "\n",
    "# output_folder = 'press_report'\n",
    "# os.makedirs(output_folder, exist_ok=True)\n",
    "\n",
    "top_7_press = news_df['press'].value_counts().nlargest(7).index.tolist()\n",
    "\n",
    "filtered_news_df = news_df[news_df['press'].isin(top_7_press)]\n",
    "\n",
    "date_press_count = filtered_news_df.groupby(['date', 'press']).size().unstack(fill_value=0)\n",
    "\n",
    "for date, counts in date_press_count.iterrows():\n",
    "    counts_sorted = counts.sort_values(ascending=False)\n",
    "    colors = plt.cm.rainbow(np.linspace(0, 1, len(counts)))\n",
    "    plt.figure(figsize=(10, 10))\n",
    "    def autopct_format(values):\n",
    "        def my_format(pct):\n",
    "            total = sum(values)\n",
    "            val = int(round(pct*total/100.0))\n",
    "            return f'{pct:.1f}%\\n({val:d})'\n",
    "        return my_format\n",
    "\n",
    "    plt.pie(counts_sorted, labels=counts_sorted.index, autopct=autopct_format(counts_sorted), startangle=90, \n",
    "            textprops={'fontsize': 15, 'fontweight': 'bold'}, colors=colors)\n",
    "    plt.axis('equal')\n",
    "    file_path = os.path.join(output_folder, f'pie_chart_{date}.png')\n",
    "    plt.savefig(file_path)\n",
    "    plt.close()"
   ]
  }
 ],
 "metadata": {
  "kernelspec": {
   "display_name": "Python 3 (ipykernel)",
   "language": "python",
   "name": "python3"
  },
  "language_info": {
   "codemirror_mode": {
    "name": "ipython",
    "version": 3
   },
   "file_extension": ".py",
   "mimetype": "text/x-python",
   "name": "python",
   "nbconvert_exporter": "python",
   "pygments_lexer": "ipython3",
   "version": "3.12.4"
  }
 },
 "nbformat": 4,
 "nbformat_minor": 5
}
